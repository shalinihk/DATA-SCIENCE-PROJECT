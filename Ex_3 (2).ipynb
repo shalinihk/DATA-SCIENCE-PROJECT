{
 "cells": [
  {
   "cell_type": "markdown",
   "metadata": {},
   "source": [
    "# Descriptive Statistics \n",
    "\n",
    "\n",
    "**Descriptive Statistics** is the subject matter of this project. Descriptive statistics gives us the basic summary measures about the dataset.  The summary measures include measures of central tendency (mean, median and mode) and measures of variability (variance, standard deviation, minimum/maximum values, IQR (Interquartile Range), skewness and kurtosis). Data set  used in the lab is  fortune 500 dataset from the data world website for this project."
   ]
  },
  {
   "cell_type": "markdown",
   "metadata": {},
   "source": [
    "## Table of Contents\n",
    "\n",
    "\n",
    "1.\tIntroduction to descriptive statistics\n",
    "2.\tMeasures of central tendency\n",
    "    -\tMean\n",
    "    -\tMedian\n",
    "    -\tMode\n",
    "3.\tMeasures of dispersion\n",
    "    -\tVariance\n",
    "    -\tStandard deviation\n",
    "    -\tCoefficient of variation\n",
    "    -\tIQR (Interquartile range)\n",
    "    -\tSkewness\n",
    "    -\tKurtosis\n",
    "4.\tDataset description\n",
    "5.\tImport libraries\n",
    "6.\tImport dataset\n",
    "7.\tExploratory data analysis\n",
    "8.\tDescriptive statistics with `describe()` function\n",
    "    -\tSummary statistics of numerical columns\n",
    "    -\tSummary statistics of character columns\n",
    "    -\tSummary statistics of all the columns\n",
    "9.\tComputation of measures of central tendency\n",
    "    -\tMean\n",
    "    -\tMedian\n",
    "    -\tMode\n",
    "10.\tComputation of measures of dispersion or variability\n",
    "    -\tMinimum and maximum values\n",
    "    -\tRange\n",
    "    -\tVariance\n",
    "    -\tStandard deviation\n",
    "    -\tMedian\n",
    "    -\tInterquartile Range\n",
    "11.\tComputation of measures of shape of distribution\n",
    "    -\tSkewness\n",
    "    -\tKurtosis\n",
    "12.\tResults and conclusion\n",
    "\n"
   ]
  },
  {
   "cell_type": "markdown",
   "metadata": {},
   "source": [
    "## 1. Introduction to descriptive statistics\n",
    "\n",
    "\n",
    "Descriptive statistics are numbers that are used to describe and summarize the data. They are used to describe the basic features of the data under consideration. They provide simple summary measures which give an overview of the dataset. Summary measures that are commonly used to describe a data set are measures of central tendency and measures of variability or dispersion. \n",
    "\n",
    "\n",
    "Measures of central tendency include the `mean`, `median` and `mode`. These measures summarize a given data set by providing a single data point. These measures describe the center position of a distribution for a data set. We analyze the frequency of each data point in the distribution and describes it using the mean, median or mode. They provide the average of a data set. They can be either a representation of entire population or a sample of the population.\n",
    "\n",
    "\n",
    "Measures of variability or dispersion include the `variance` or `standard deviation`, `coefficient of variation`,  `minimum` and `maximum` values, `IQR (Interquartile Range)`,  `skewness and `kurtosis`. These measures help us to analyze how spread-out the distribution is for a dataset. So, they provide the shape of the data set.\n"
   ]
  },
  {
   "cell_type": "markdown",
   "metadata": {},
   "source": [
    "## 2. Measures of central tendency\n",
    "\n",
    "\n",
    "**Central tendency** means a central value which describe a probability distribution. It may also be called a center or location of the distribution. The most common measures of central tendency are **mean**, **median** and **mode**. The most common measure of central tendency is the **mean**. For skewed distribution or when there is concern about outliers, the **median** may be preferred. So, median is more robust measure than the mean.\n",
    "\n",
    "\n",
    "\n",
    "### Mean\n",
    "\n",
    "- The most common measure of central tendency is the mean.\n",
    "- Mean is also known as the simple average.\n",
    "- It is denoted by greek letter µ for population and by ¯x for sample.\n",
    "- We can find mean of a number of elements by adding all the elements in a dataset and then dividing by the number of elements  in the dataset.\n",
    "- It is the most common measure of central tendency but it has a drawback.\n",
    "- The mean is affected by the presence of outliers.\n",
    "- So, mean alone is not enough for making business decisions.\n",
    "\n",
    "\n",
    "### Median\n",
    "\n",
    "- Median is the number which divides the dataset into two equal halves.\n",
    "- To calculate the median, we have to arrange our dataset of n numbers in ascending order.\n",
    "- The median of this dataset is the number at (n+1)/2 th position, if n is odd.\n",
    "- If n is even, then the median is the average of the (n/2)th number and (n+2)/2 th number.\n",
    "- Median is robust to outliers.\n",
    "- So, for skewed distribution or when there is concern about outliers, the median may be preferred.\n",
    "\n",
    "\n",
    "### Mode\n",
    "\n",
    "- Mode of a dataset is the value that occurs most often in the dataset.\n",
    "- Mode is the value that has the highest frequency of occurrence in the dataset.\n",
    "\n",
    "\n",
    "There is no best measure that give us the complete picture. So, these measures of central tendency (mean, median and mode) should be used together to represent the full picture. \n",
    "\n"
   ]
  },
  {
   "cell_type": "markdown",
   "metadata": {},
   "source": [
    "## 3. Measures of dispersion or variability\n",
    "\n",
    "\n",
    "**Dispersion** is an indicator of how far away from the center, we can find the data values. The most common measures of dispersion are **variance**, **standard deviation** and **interquartile range (IQR)**. **Variance** is the standard measure of spread. The **standard deviation** is the square root of the variance. The **variance** and **standard deviation** are two useful measures of spread. \n",
    "\n",
    "\n",
    "\n",
    "### Variance\n",
    "\n",
    "-\tVariance measures the dispersion of a set of data points around their mean value.\n",
    "-\tIt is the mean of the squares of the individual deviations.\n",
    "-\tVariance gives results in the original units squared.\n",
    "\n",
    "\n",
    "\n",
    "### Standard deviation\n",
    "\n",
    "-\tStandard deviation is the most common used measure of variability.\n",
    "-\tIt is the square-root of the variance.\n",
    "-\tFor Normally distributed data, approximately 95% of the values lie within 2 s.d. of the mean. \n",
    "-\tStandard deviation gives results in the original units.\n",
    "\n",
    "\n",
    "### Coefficient of Variation (CV)\n",
    "\n",
    "-\tCoefficient of Variation (CV) is equal to the standard deviation divided by the mean.\n",
    "-\tIt is also known as `relative standard deviation`.\n",
    "\n",
    "\n",
    "### IQR (Interquartile range)\n",
    "\n",
    "-\tA third measure of spread is the **interquartile range (IQR)**.\n",
    "-\tThe IQR is calculated using the boundaries of data situated between the 1st and the 3rd quartiles. \n",
    "-\tThe interquartile range (IQR) can be calculated as follows:-\n",
    "       IQR = Q3 – Q1\n",
    "-\tIn the same way that the median is more robust than the mean, the IQR is a more robust measure of spread than variance and standard deviation and should therefore be preferred for small or asymmetrical distributions. \n",
    "-\tIt is a robust measure of spread.\n",
    "\n",
    "\n",
    "\n",
    "### Measures of shape\n",
    "\n",
    "Now, we will take a look at measures of shape of distribution. There are two statistical measures that can tell us about the shape of the distribution. These measures are **skewness** and **kurtosis**. These measures can be used to convey information about the shape of the distribution of the dataset.\n",
    "\n",
    "\n",
    "### Skewness\n",
    "-\t**Skewness** is a measure of a distribution's symmetry or more precisely lack of symmetry. \n",
    "-\tIt is used to mean the absence of symmetry from the mean of the dataset. \n",
    "-\tIt is a characteristic of the deviation from the mean. \n",
    "-\tIt is used to indicate the shape of the distribution of data.\n",
    "\n",
    "\n",
    "#### Negative skewness\n",
    "\n",
    "-\tNegative values for skewness indicate negative skewness. \n",
    "-\tIn this case, the data are skewed or tail to left. \n",
    "-\tBy skewed left, we mean that the left tail is long relative to the right tail. \n",
    "-\tThe data values may extend further to the left but concentrated in the right. \n",
    "-\tSo, there is a long tail and distortion is caused by extremely small values which pull the mean downward so that it is less than the median. \n",
    "-\tHence, in this case we have\n",
    "      **Mean < Median < Mode**\n",
    "      \n",
    "\n",
    "#### Zero skewness\n",
    "\n",
    "-\tZero skewness means skewness value of zero. \n",
    "-\tIt means the dataset is symmetrical. \n",
    "-\tA data set is symmetrical if it looks the same to the left and right to the center point. \n",
    "-\tThe dataset looks bell shaped or symmetrical. \n",
    "-\tA perfectly symmetrical data set will have a skewness of zero. \n",
    "-\tSo, the normal distribution which is perfectly symmetrical has a skewness of 0. \n",
    "-\tSo, in this case, we have\n",
    "      **Mean = Median = Mode**\n",
    "      \n",
    "\n",
    "#### Positive skewness\n",
    "\n",
    "-\tPositive values for skewness indicate positive skewness. \n",
    "-\tThe dataset are skewed or tail to right. \n",
    "-\tBy skewed right, we mean that the right tail is long relative to the left tail. \n",
    "-\tThe data values are concentrated in the right. \n",
    "-\tSo, there is a long tail to the right that is caused by extremely large values which pull the mean upward so that it is greater than the median. \n",
    "-\tSo, we have\n",
    "       **Mean > Median > Mode**\n",
    "       \n",
    "\n",
    "#### Reference range on skewness values\n",
    "\n",
    "The rule of thumb for skewness values are:\n",
    "\n",
    "-\tIf the skewness is between -0.5 and 0.5, the data are fairly symmetrical.\n",
    "-\tIf the skewness is between -1 and – 0.5 or between 0.5 and 1, the data are moderately skewed.\n",
    "-\tIf the skewness is less than -1 or greater than 1, the data are highly skewed.\n",
    "\n",
    "\n",
    "### Kurtosis\n",
    "\n",
    "-\tKurtosis is the degree of peakedness of a distribution. \n",
    "-\tData sets with high kurtosis tend to have a distinct peak near the mean, decline rather rapidly and have heavy tails.\n",
    "-\tData sets with low kurtosis tend to have a flat top near the mean rather than a sharp peak. \n",
    "\n",
    "\n",
    "#### Reference range for kurtosis\n",
    "-\tThe reference standard is a normal distribution, which has a kurtosis of 3. \n",
    "-\tOften, **excess kurtosis** is presented instead of kurtosis, where **excess kurtosis** is simply **kurtosis - 3**. \n",
    "\n",
    "#### Mesokurtic curve\n",
    "-\tA normal distribution has kurtosis exactly 3 (**excess kurtosis** exactly 0). \n",
    "-\tAny distribution with kurtosis ≈3 (excess ≈ 0) is called **mesokurtic**.\n",
    "\n",
    "#### Platykurtic curve\n",
    "-\tA distribution with kurtosis < 3 (**excess kurtosis** < 0) is called **platykurtic**. \n",
    "-\tAs compared to a normal distribution, its central peak is lower and broader, and its tails are shorter and thinner.\n",
    "\n",
    "#### Leptokurtic curve\n",
    "\n",
    "-\tA distribution with kurtosis > 3 (**excess kurtosis** > 0) is called **leptokurtic**. \n",
    "-\tAs compared to a normal distribution, its central peak is higher and sharper, and its tails are longer and fatter.\n",
    "\n",
    "\n",
    "\n",
    "### Summary\n",
    "\n",
    "\n",
    "So far, we have looked at the measures of central tendency of the data which include `mean`, `median` and `mode`. Also, we have taken a look at measures of spread of the data which consists of `variance`, `standard deviation`, `interquartile range (IQR)`, `minimum` and `maximum` values. We have also discussed `skewness` and `kurtosis` as measures of shape. These quantities can only be used for quantitative variables not for categorical variables.\n"
   ]
  },
  {
   "cell_type": "markdown",
   "metadata": {},
   "source": [
    "## 4. Dataset description\n",
    "\n",
    "\n",
    "I have used the `fortune 500 dataset` for this project. I have downloaded this dataset from the data world website. This data set can be downloaded from the following url –\n",
    "\n",
    "\n",
    "https://data.world/alexandra/fortune-500\n",
    "\n",
    "\n",
    "The data set consists of revenue and profit figures of fortune 500 companies along with their rank.\n"
   ]
  },
  {
   "cell_type": "markdown",
   "metadata": {},
   "source": [
    "## 5. Import libraries"
   ]
  },
  {
   "cell_type": "code",
   "execution_count": 2,
   "metadata": {},
   "outputs": [],
   "source": [
    "import pandas as pd\n",
    "import numpy as np\n",
    "import matplotlib.pyplot as plt\n",
    "import seaborn as sns\n",
    "%matplotlib inline"
   ]
  },
  {
   "cell_type": "markdown",
   "metadata": {
    "jp-MarkdownHeadingCollapsed": true
   },
   "source": [
    "### Ignore warnings"
   ]
  },
  {
   "cell_type": "markdown",
   "metadata": {},
   "source": [
    "## 6. Import dataset"
   ]
  },
  {
   "cell_type": "code",
   "execution_count": 3,
   "metadata": {},
   "outputs": [],
   "source": [
    "df=pd.read_csv(\"F500 (1).csv\")\n"
   ]
  },
  {
   "cell_type": "markdown",
   "metadata": {},
   "source": [
    "## 7. Exploratory data analysis\n",
    "\n",
    "\n",
    "Explore the data to gain insights about the data."
   ]
  },
  {
   "cell_type": "markdown",
   "metadata": {},
   "source": [
    "### View dimensions of dataset"
   ]
  },
  {
   "cell_type": "code",
   "execution_count": 4,
   "metadata": {},
   "outputs": [
    {
     "data": {
      "text/plain": [
       "(13940, 5)"
      ]
     },
     "execution_count": 4,
     "metadata": {},
     "output_type": "execute_result"
    }
   ],
   "source": [
    "df.shape"
   ]
  },
  {
   "cell_type": "markdown",
   "metadata": {},
   "source": [
    "We can see that there are 13940 instances and 5 variables in the data set."
   ]
  },
  {
   "cell_type": "markdown",
   "metadata": {},
   "source": [
    "### Preview the dataset"
   ]
  },
  {
   "cell_type": "code",
   "execution_count": 5,
   "metadata": {},
   "outputs": [
    {
     "data": {
      "text/html": [
       "<div>\n",
       "<style scoped>\n",
       "    .dataframe tbody tr th:only-of-type {\n",
       "        vertical-align: middle;\n",
       "    }\n",
       "\n",
       "    .dataframe tbody tr th {\n",
       "        vertical-align: top;\n",
       "    }\n",
       "\n",
       "    .dataframe thead th {\n",
       "        text-align: right;\n",
       "    }\n",
       "</style>\n",
       "<table border=\"1\" class=\"dataframe\">\n",
       "  <thead>\n",
       "    <tr style=\"text-align: right;\">\n",
       "      <th></th>\n",
       "      <th>Company</th>\n",
       "      <th>Rank</th>\n",
       "      <th>Year</th>\n",
       "      <th>Revenue (in millions)</th>\n",
       "      <th>Profit (in millions)</th>\n",
       "    </tr>\n",
       "  </thead>\n",
       "  <tbody>\n",
       "    <tr>\n",
       "      <th>0</th>\n",
       "      <td>General Motors Corporation</td>\n",
       "      <td>1</td>\n",
       "      <td>1996</td>\n",
       "      <td>168828.6</td>\n",
       "      <td>NaN</td>\n",
       "    </tr>\n",
       "    <tr>\n",
       "      <th>1</th>\n",
       "      <td>Ford Motor Company</td>\n",
       "      <td>2</td>\n",
       "      <td>1996</td>\n",
       "      <td>137137.0</td>\n",
       "      <td>NaN</td>\n",
       "    </tr>\n",
       "    <tr>\n",
       "      <th>2</th>\n",
       "      <td>Exxon Corporation</td>\n",
       "      <td>3</td>\n",
       "      <td>1996</td>\n",
       "      <td>110009.0</td>\n",
       "      <td>NaN</td>\n",
       "    </tr>\n",
       "    <tr>\n",
       "      <th>3</th>\n",
       "      <td>Wal-Mart Stores, Inc.</td>\n",
       "      <td>4</td>\n",
       "      <td>1996</td>\n",
       "      <td>93627.0</td>\n",
       "      <td>NaN</td>\n",
       "    </tr>\n",
       "    <tr>\n",
       "      <th>4</th>\n",
       "      <td>AT&amp;T Corp.</td>\n",
       "      <td>5</td>\n",
       "      <td>1996</td>\n",
       "      <td>79609.0</td>\n",
       "      <td>NaN</td>\n",
       "    </tr>\n",
       "  </tbody>\n",
       "</table>\n",
       "</div>"
      ],
      "text/plain": [
       "                      Company  Rank  Year  Revenue (in millions)  \\\n",
       "0  General Motors Corporation     1  1996               168828.6   \n",
       "1          Ford Motor Company     2  1996               137137.0   \n",
       "2           Exxon Corporation     3  1996               110009.0   \n",
       "3       Wal-Mart Stores, Inc.     4  1996                93627.0   \n",
       "4                  AT&T Corp.     5  1996                79609.0   \n",
       "\n",
       "   Profit (in millions)  \n",
       "0                   NaN  \n",
       "1                   NaN  \n",
       "2                   NaN  \n",
       "3                   NaN  \n",
       "4                   NaN  "
      ]
     },
     "execution_count": 5,
     "metadata": {},
     "output_type": "execute_result"
    }
   ],
   "source": [
    "df.head()"
   ]
  },
  {
   "cell_type": "markdown",
   "metadata": {},
   "source": [
    "### View summary of dataset"
   ]
  },
  {
   "cell_type": "code",
   "execution_count": 6,
   "metadata": {},
   "outputs": [
    {
     "name": "stdout",
     "output_type": "stream",
     "text": [
      "<class 'pandas.core.frame.DataFrame'>\n",
      "RangeIndex: 13940 entries, 0 to 13939\n",
      "Data columns (total 5 columns):\n",
      " #   Column                 Non-Null Count  Dtype  \n",
      "---  ------                 --------------  -----  \n",
      " 0   Company                13940 non-null  object \n",
      " 1   Rank                   13940 non-null  int64  \n",
      " 2   Year                   13940 non-null  int64  \n",
      " 3   Revenue (in millions)  13940 non-null  float64\n",
      " 4   Profit (in millions)   5497 non-null   float64\n",
      "dtypes: float64(2), int64(2), object(1)\n",
      "memory usage: 544.7+ KB\n"
     ]
    }
   ],
   "source": [
    "df.info()"
   ]
  },
  {
   "cell_type": "markdown",
   "metadata": {},
   "source": [
    "### Observations\n",
    "\n",
    "- We can see that the `Year` and `Rank` variables have integer data types as expected. The `Company` variable is of object data type. \n",
    "\n",
    "- The `Revenue (in millions)` variable is of float data type.\n",
    "\n",
    "- The `Profit (in millions)` variable is of object data type. "
   ]
  },
  {
   "cell_type": "markdown",
   "metadata": {},
   "source": [
    "### Check for missing values df.isnull().sum() "
   ]
  },
  {
   "cell_type": "code",
   "execution_count": 7,
   "metadata": {},
   "outputs": [
    {
     "data": {
      "text/plain": [
       "Company                     0\n",
       "Rank                        0\n",
       "Year                        0\n",
       "Revenue (in millions)       0\n",
       "Profit (in millions)     8443\n",
       "dtype: int64"
      ]
     },
     "execution_count": 7,
     "metadata": {},
     "output_type": "execute_result"
    }
   ],
   "source": [
    "df.isnull().sum()"
   ]
  },
  {
   "cell_type": "markdown",
   "metadata": {},
   "source": [
    "## 8. Descriptive statistics with `describe()` function\n",
    "\n",
    "\n",
    "\n",
    "Descriptive or summary statistics in python – pandas, can be obtained by using the `describe()` function. The `describe()` function gives us the `count`, `mean`, `standard deviation(std)`, `minimum`, `Q1(25%)`, `median(50%)`, `Q3(75%)`, `IQR(Q3 - Q1)` and `maximum` values.\n",
    "\n",
    "\n",
    "I will demonstrate the usage of `describe()` function as follows."
   ]
  },
  {
   "cell_type": "markdown",
   "metadata": {},
   "source": [
    "### Summary statistics of numerical columns"
   ]
  },
  {
   "cell_type": "code",
   "execution_count": 8,
   "metadata": {},
   "outputs": [
    {
     "data": {
      "text/html": [
       "<div>\n",
       "<style scoped>\n",
       "    .dataframe tbody tr th:only-of-type {\n",
       "        vertical-align: middle;\n",
       "    }\n",
       "\n",
       "    .dataframe tbody tr th {\n",
       "        vertical-align: top;\n",
       "    }\n",
       "\n",
       "    .dataframe thead th {\n",
       "        text-align: right;\n",
       "    }\n",
       "</style>\n",
       "<table border=\"1\" class=\"dataframe\">\n",
       "  <thead>\n",
       "    <tr style=\"text-align: right;\">\n",
       "      <th></th>\n",
       "      <th>Rank</th>\n",
       "      <th>Year</th>\n",
       "      <th>Revenue (in millions)</th>\n",
       "      <th>Profit (in millions)</th>\n",
       "    </tr>\n",
       "  </thead>\n",
       "  <tbody>\n",
       "    <tr>\n",
       "      <th>count</th>\n",
       "      <td>13940.000000</td>\n",
       "      <td>13940.000000</td>\n",
       "      <td>13940.000000</td>\n",
       "      <td>5497.000000</td>\n",
       "    </tr>\n",
       "    <tr>\n",
       "      <th>mean</th>\n",
       "      <td>250.511765</td>\n",
       "      <td>2009.537231</td>\n",
       "      <td>20225.158016</td>\n",
       "      <td>2501.271621</td>\n",
       "    </tr>\n",
       "    <tr>\n",
       "      <th>std</th>\n",
       "      <td>144.368022</td>\n",
       "      <td>8.071421</td>\n",
       "      <td>35994.023496</td>\n",
       "      <td>5626.509092</td>\n",
       "    </tr>\n",
       "    <tr>\n",
       "      <th>min</th>\n",
       "      <td>1.000000</td>\n",
       "      <td>1996.000000</td>\n",
       "      <td>48.290000</td>\n",
       "      <td>-12650.000000</td>\n",
       "    </tr>\n",
       "    <tr>\n",
       "      <th>25%</th>\n",
       "      <td>125.000000</td>\n",
       "      <td>2003.000000</td>\n",
       "      <td>5806.225000</td>\n",
       "      <td>390.000000</td>\n",
       "    </tr>\n",
       "    <tr>\n",
       "      <th>50%</th>\n",
       "      <td>250.500000</td>\n",
       "      <td>2010.000000</td>\n",
       "      <td>9587.500000</td>\n",
       "      <td>948.000000</td>\n",
       "    </tr>\n",
       "    <tr>\n",
       "      <th>75%</th>\n",
       "      <td>375.250000</td>\n",
       "      <td>2017.000000</td>\n",
       "      <td>19109.000000</td>\n",
       "      <td>2319.000000</td>\n",
       "    </tr>\n",
       "    <tr>\n",
       "      <th>max</th>\n",
       "      <td>500.000000</td>\n",
       "      <td>2023.000000</td>\n",
       "      <td>611289.000000</td>\n",
       "      <td>99803.000000</td>\n",
       "    </tr>\n",
       "  </tbody>\n",
       "</table>\n",
       "</div>"
      ],
      "text/plain": [
       "               Rank          Year  Revenue (in millions)  Profit (in millions)\n",
       "count  13940.000000  13940.000000           13940.000000           5497.000000\n",
       "mean     250.511765   2009.537231           20225.158016           2501.271621\n",
       "std      144.368022      8.071421           35994.023496           5626.509092\n",
       "min        1.000000   1996.000000              48.290000         -12650.000000\n",
       "25%      125.000000   2003.000000            5806.225000            390.000000\n",
       "50%      250.500000   2010.000000            9587.500000            948.000000\n",
       "75%      375.250000   2017.000000           19109.000000           2319.000000\n",
       "max      500.000000   2023.000000          611289.000000          99803.000000"
      ]
     },
     "execution_count": 8,
     "metadata": {},
     "output_type": "execute_result"
    }
   ],
   "source": [
    "df.describe()"
   ]
  },
  {
   "cell_type": "markdown",
   "metadata": {},
   "source": [
    "We can see that the `describe()` function excludes the character columns and gives summary statistics of numeric columns only."
   ]
  },
  {
   "cell_type": "markdown",
   "metadata": {},
   "source": [
    "### Summary statistics of character columns\n",
    "\n",
    "\n",
    "- The `describe()` function with an argument named `include` along with `value` object(include='object') gives the summary statistics of the character columns."
   ]
  },
  {
   "cell_type": "raw",
   "metadata": {},
   "source": [
    "df.describe(include='object')"
   ]
  },
  {
   "cell_type": "markdown",
   "metadata": {},
   "source": [
    "### Summary statistics of all the columns\n",
    "\n",
    "\n",
    "- The `describe()` function with include='all' gives the summary statistics of all the columns.\n",
    "\n",
    "\n",
    "- We need to add a variable named include='all' to get the summary statistics or descriptive statistics of both numeric and character columns."
   ]
  },
  {
   "cell_type": "code",
   "execution_count": 9,
   "metadata": {},
   "outputs": [
    {
     "data": {
      "text/html": [
       "<div>\n",
       "<style scoped>\n",
       "    .dataframe tbody tr th:only-of-type {\n",
       "        vertical-align: middle;\n",
       "    }\n",
       "\n",
       "    .dataframe tbody tr th {\n",
       "        vertical-align: top;\n",
       "    }\n",
       "\n",
       "    .dataframe thead th {\n",
       "        text-align: right;\n",
       "    }\n",
       "</style>\n",
       "<table border=\"1\" class=\"dataframe\">\n",
       "  <thead>\n",
       "    <tr style=\"text-align: right;\">\n",
       "      <th></th>\n",
       "      <th>Company</th>\n",
       "      <th>Rank</th>\n",
       "      <th>Year</th>\n",
       "      <th>Revenue (in millions)</th>\n",
       "      <th>Profit (in millions)</th>\n",
       "    </tr>\n",
       "  </thead>\n",
       "  <tbody>\n",
       "    <tr>\n",
       "      <th>count</th>\n",
       "      <td>13940</td>\n",
       "      <td>13940.000000</td>\n",
       "      <td>13940.000000</td>\n",
       "      <td>13940.000000</td>\n",
       "      <td>5497.000000</td>\n",
       "    </tr>\n",
       "    <tr>\n",
       "      <th>unique</th>\n",
       "      <td>2255</td>\n",
       "      <td>NaN</td>\n",
       "      <td>NaN</td>\n",
       "      <td>NaN</td>\n",
       "      <td>NaN</td>\n",
       "    </tr>\n",
       "    <tr>\n",
       "      <th>top</th>\n",
       "      <td>U.S. Bancorp</td>\n",
       "      <td>NaN</td>\n",
       "      <td>NaN</td>\n",
       "      <td>NaN</td>\n",
       "      <td>NaN</td>\n",
       "    </tr>\n",
       "    <tr>\n",
       "      <th>freq</th>\n",
       "      <td>28</td>\n",
       "      <td>NaN</td>\n",
       "      <td>NaN</td>\n",
       "      <td>NaN</td>\n",
       "      <td>NaN</td>\n",
       "    </tr>\n",
       "    <tr>\n",
       "      <th>mean</th>\n",
       "      <td>NaN</td>\n",
       "      <td>250.511765</td>\n",
       "      <td>2009.537231</td>\n",
       "      <td>20225.158016</td>\n",
       "      <td>2501.271621</td>\n",
       "    </tr>\n",
       "    <tr>\n",
       "      <th>std</th>\n",
       "      <td>NaN</td>\n",
       "      <td>144.368022</td>\n",
       "      <td>8.071421</td>\n",
       "      <td>35994.023496</td>\n",
       "      <td>5626.509092</td>\n",
       "    </tr>\n",
       "    <tr>\n",
       "      <th>min</th>\n",
       "      <td>NaN</td>\n",
       "      <td>1.000000</td>\n",
       "      <td>1996.000000</td>\n",
       "      <td>48.290000</td>\n",
       "      <td>-12650.000000</td>\n",
       "    </tr>\n",
       "    <tr>\n",
       "      <th>25%</th>\n",
       "      <td>NaN</td>\n",
       "      <td>125.000000</td>\n",
       "      <td>2003.000000</td>\n",
       "      <td>5806.225000</td>\n",
       "      <td>390.000000</td>\n",
       "    </tr>\n",
       "    <tr>\n",
       "      <th>50%</th>\n",
       "      <td>NaN</td>\n",
       "      <td>250.500000</td>\n",
       "      <td>2010.000000</td>\n",
       "      <td>9587.500000</td>\n",
       "      <td>948.000000</td>\n",
       "    </tr>\n",
       "    <tr>\n",
       "      <th>75%</th>\n",
       "      <td>NaN</td>\n",
       "      <td>375.250000</td>\n",
       "      <td>2017.000000</td>\n",
       "      <td>19109.000000</td>\n",
       "      <td>2319.000000</td>\n",
       "    </tr>\n",
       "    <tr>\n",
       "      <th>max</th>\n",
       "      <td>NaN</td>\n",
       "      <td>500.000000</td>\n",
       "      <td>2023.000000</td>\n",
       "      <td>611289.000000</td>\n",
       "      <td>99803.000000</td>\n",
       "    </tr>\n",
       "  </tbody>\n",
       "</table>\n",
       "</div>"
      ],
      "text/plain": [
       "             Company          Rank          Year  Revenue (in millions)  \\\n",
       "count          13940  13940.000000  13940.000000           13940.000000   \n",
       "unique          2255           NaN           NaN                    NaN   \n",
       "top     U.S. Bancorp           NaN           NaN                    NaN   \n",
       "freq              28           NaN           NaN                    NaN   \n",
       "mean             NaN    250.511765   2009.537231           20225.158016   \n",
       "std              NaN    144.368022      8.071421           35994.023496   \n",
       "min              NaN      1.000000   1996.000000              48.290000   \n",
       "25%              NaN    125.000000   2003.000000            5806.225000   \n",
       "50%              NaN    250.500000   2010.000000            9587.500000   \n",
       "75%              NaN    375.250000   2017.000000           19109.000000   \n",
       "max              NaN    500.000000   2023.000000          611289.000000   \n",
       "\n",
       "        Profit (in millions)  \n",
       "count            5497.000000  \n",
       "unique                   NaN  \n",
       "top                      NaN  \n",
       "freq                     NaN  \n",
       "mean             2501.271621  \n",
       "std              5626.509092  \n",
       "min            -12650.000000  \n",
       "25%               390.000000  \n",
       "50%               948.000000  \n",
       "75%              2319.000000  \n",
       "max             99803.000000  "
      ]
     },
     "execution_count": 9,
     "metadata": {},
     "output_type": "execute_result"
    }
   ],
   "source": [
    "df.describe(include=\"all\")"
   ]
  },
  {
   "cell_type": "markdown",
   "metadata": {},
   "source": [
    "## 9. Computation of measures of central tendency \n",
    "\n",
    "\n",
    "- In this section, I will compute the measures of central tendency - mean, median and mode. \n",
    "\n",
    "- These statistics give us a approximate value of the middle of a numeric variable.\n",
    "\n",
    "- I will use the `Revenue (in millions)` variable for calculations."
   ]
  },
  {
   "cell_type": "markdown",
   "metadata": {},
   "source": [
    "### Mean"
   ]
  },
  {
   "cell_type": "code",
   "execution_count": 10,
   "metadata": {},
   "outputs": [
    {
     "name": "stdout",
     "output_type": "stream",
     "text": [
      "20225.158015781923\n"
     ]
    }
   ],
   "source": [
    "mean=df['Revenue (in millions)'].mean()\n",
    "print(mean)\n",
    "\n"
   ]
  },
  {
   "cell_type": "markdown",
   "metadata": {},
   "source": [
    "### Median"
   ]
  },
  {
   "cell_type": "code",
   "execution_count": 11,
   "metadata": {},
   "outputs": [
    {
     "name": "stdout",
     "output_type": "stream",
     "text": [
      "9587.5\n"
     ]
    }
   ],
   "source": [
    "median=df['Revenue (in millions)'].median()\n",
    "print(median)\n",
    "\n"
   ]
  },
  {
   "cell_type": "markdown",
   "metadata": {},
   "source": [
    "### Mode"
   ]
  },
  {
   "cell_type": "code",
   "execution_count": 12,
   "metadata": {},
   "outputs": [
    {
     "name": "stdout",
     "output_type": "stream",
     "text": [
      "0    5810.0\n",
      "1    5853.0\n",
      "2    6691.0\n",
      "3    9061.0\n",
      "Name: Revenue (in millions), dtype: float64\n"
     ]
    }
   ],
   "source": [
    "mode=df['Revenue (in millions)'].mode()\n",
    "print(mode)\n",
    "\n"
   ]
  },
  {
   "cell_type": "markdown",
   "metadata": {},
   "source": [
    "### Observation\n",
    "\n",
    "\n",
    "- We can see that `mean > median > mode`. So, the distribution of `Revenue (in millions)` is positively skewed. I will plot its distribution to confirm the same."
   ]
  },
  {
   "cell_type": "markdown",
   "metadata": {},
   "source": [
    "### Plot the distribution "
   ]
  },
  {
   "cell_type": "code",
   "execution_count": 13,
   "metadata": {},
   "outputs": [
    {
     "data": {
      "image/png": "[encoded data removed]",
      "text/plain": [
       "<Figure size 500x500 with 1 Axes>"
      ]
     },
     "metadata": {},
     "output_type": "display_data"
    }
   ],
   "source": [
    "data=df['Revenue (in millions)']\n",
    "sns.displot(data=data)\n",
    "plt.show()"
   ]
  },
  {
   "cell_type": "markdown",
   "metadata": {},
   "source": [
    "The above plot confirms that the `Revenue (in millions)` is positively skewed."
   ]
  },
  {
   "cell_type": "markdown",
   "metadata": {},
   "source": [
    "## 10. Computation of measures of dispersion or variability\n",
    "\n",
    "\n",
    "- In this section, we will compute the measures of dispersion or variability - minimum and maximum values, range, variance, standard-deviation, IQR. \n",
    "\n",
    "- Again, we will use the `Revenue (in millions)` variable for calculations.\n"
   ]
  },
  {
   "cell_type": "markdown",
   "metadata": {},
   "source": [
    "### Minimum value"
   ]
  },
  {
   "cell_type": "code",
   "execution_count": 14,
   "metadata": {},
   "outputs": [
    {
     "name": "stdout",
     "output_type": "stream",
     "text": [
      "48.29\n"
     ]
    }
   ],
   "source": [
    "min=df['Revenue (in millions)'].min()\n",
    "print(min)"
   ]
  },
  {
   "cell_type": "markdown",
   "metadata": {},
   "source": [
    "### Maximum value"
   ]
  },
  {
   "cell_type": "code",
   "execution_count": 15,
   "metadata": {},
   "outputs": [
    {
     "name": "stdout",
     "output_type": "stream",
     "text": [
      "611289.0\n"
     ]
    }
   ],
   "source": [
    "max=df['Revenue (in millions)'].max()\n",
    "print(max)"
   ]
  },
  {
   "cell_type": "markdown",
   "metadata": {},
   "source": [
    "### Range"
   ]
  },
  {
   "cell_type": "code",
   "execution_count": 16,
   "metadata": {},
   "outputs": [
    {
     "name": "stdout",
     "output_type": "stream",
     "text": [
      "611240.71\n"
     ]
    }
   ],
   "source": [
    "range=max-min\n",
    "print(range)"
   ]
  },
  {
   "cell_type": "markdown",
   "metadata": {},
   "source": [
    "### Variance"
   ]
  },
  {
   "cell_type": "code",
   "execution_count": 17,
   "metadata": {},
   "outputs": [
    {
     "name": "stdout",
     "output_type": "stream",
     "text": [
      "1295569727.4622889\n"
     ]
    }
   ],
   "source": [
    "var=df['Revenue (in millions)'].var()\n",
    "print(var)"
   ]
  },
  {
   "cell_type": "markdown",
   "metadata": {},
   "source": [
    "### Standard deviation"
   ]
  },
  {
   "cell_type": "code",
   "execution_count": 18,
   "metadata": {},
   "outputs": [
    {
     "name": "stdout",
     "output_type": "stream",
     "text": [
      "35994.0234964402\n"
     ]
    }
   ],
   "source": [
    "s=df['Revenue (in millions)'].std()\n",
    "print(s)"
   ]
  },
  {
   "cell_type": "markdown",
   "metadata": {},
   "source": [
    "### Median (Q2 or 50th percentile) Q2 = df['Revenue (in millions)'].quantile(0.5)"
   ]
  },
  {
   "cell_type": "markdown",
   "metadata": {},
   "source": [
    "q2=df['Revenue (in millions)'].quantile(0.5)\n",
    "print(q2)"
   ]
  },
  {
   "cell_type": "markdown",
   "metadata": {},
   "source": [
    "### Q3 or 75th percentile"
   ]
  },
  {
   "cell_type": "code",
   "execution_count": 19,
   "metadata": {},
   "outputs": [
    {
     "name": "stdout",
     "output_type": "stream",
     "text": [
      "19109.0\n"
     ]
    }
   ],
   "source": [
    "q3=df['Revenue (in millions)'].quantile(0.75)\n",
    "print(q3)"
   ]
  },
  {
   "cell_type": "markdown",
   "metadata": {},
   "source": [
    "### Q1 or 25th percentile"
   ]
  },
  {
   "cell_type": "code",
   "execution_count": 20,
   "metadata": {},
   "outputs": [
    {
     "name": "stdout",
     "output_type": "stream",
     "text": [
      "5806.225\n"
     ]
    }
   ],
   "source": [
    "q1=df['Revenue (in millions)'].quantile(0.25)\n",
    "print(q1)"
   ]
  },
  {
   "cell_type": "markdown",
   "metadata": {},
   "source": [
    "### Interquartile Range\n"
   ]
  },
  {
   "cell_type": "code",
   "execution_count": 21,
   "metadata": {},
   "outputs": [
    {
     "data": {
      "text/plain": [
       "np.float64(13302.775)"
      ]
     },
     "execution_count": 21,
     "metadata": {},
     "output_type": "execute_result"
    }
   ],
   "source": [
    "IQR = q3  - q1\n",
    "\n",
    "IQR"
   ]
  },
  {
   "cell_type": "markdown",
   "metadata": {},
   "source": [
    "### Draw boxplot"
   ]
  },
  {
   "cell_type": "code",
   "execution_count": 22,
   "metadata": {},
   "outputs": [
    {
     "data": {
      "image/png": "[encoded data removed]",
      "text/plain": [
       "<Figure size 640x480 with 1 Axes>"
      ]
     },
     "metadata": {},
     "output_type": "display_data"
    }
   ],
   "source": [
    "plt.boxplot(df['Revenue (in millions)'])\n",
    "\n",
    "plt.show()"
   ]
  },
  {
   "cell_type": "markdown",
   "metadata": {},
   "source": [
    "## 11. Computation of measures of shape of distribution\n",
    "\n",
    "\n",
    "- In this section, we will compute the measures of shape of distribution - skewness and kurtosis. \n",
    "\n",
    "- Again, we will use the `Revenue (in millions)` variable for calculations.\n"
   ]
  },
  {
   "cell_type": "markdown",
   "metadata": {},
   "source": [
    "### Skewness\n"
   ]
  },
  {
   "cell_type": "code",
   "execution_count": 23,
   "metadata": {},
   "outputs": [
    {
     "data": {
      "text/plain": [
       "np.float64(6.355594826690244)"
      ]
     },
     "execution_count": 23,
     "metadata": {},
     "output_type": "execute_result"
    }
   ],
   "source": [
    "skew=df['Revenue (in millions)'].skew()\n",
    "skew"
   ]
  },
  {
   "cell_type": "markdown",
   "metadata": {},
   "source": [
    "### Interpretation\n",
    "\n",
    "The skewness to be 6.3555. So, it is greater than 1. Hence, we can conclude that the `Revenue (in millions)` data is highly skewed."
   ]
  },
  {
   "cell_type": "markdown",
   "metadata": {},
   "source": [
    "### Kurtosis"
   ]
  },
  {
   "cell_type": "code",
   "execution_count": 24,
   "metadata": {},
   "outputs": [
    {
     "data": {
      "text/plain": [
       "np.float64(60.28831785450257)"
      ]
     },
     "execution_count": 24,
     "metadata": {},
     "output_type": "execute_result"
    }
   ],
   "source": [
    "kurtosis=df['Revenue (in millions)'].kurtosis()\n",
    "kurtosis"
   ]
  },
  {
   "cell_type": "markdown",
   "metadata": {},
   "source": [
    "### Interpretation\n",
    "\n",
    " kurtosis to be 60.28 . So, it is greater than 3 and so excess kurtosis > 0. Hence, we can conclude that the `Revenue (in millions)` curve is a leptokurtic curve. As compared to a normal distribution, its central peak is higher and sharper, and its tails are longer and fatter."
   ]
  },
  {
   "cell_type": "markdown",
   "metadata": {},
   "source": [
    "# Income-Expenditure Dataset\n",
    "\n",
    "## 1. Income & Expenditure\n",
    "### What is the **mean, median, and mode** of `Mthly_HH_Income`?  \n",
    "###  Compare the **mean and median** of `Mthly_HH_Expense`. What does this tell you about expenditure distribution?  \n",
    "### Find the **range** of monthly household income.  \n",
    "### Which household has the **highest income-to-expense ratio**?  \n",
    "\n",
    "\n",
    "\n",
    "## 2. Family Structure\n",
    "### What is the **average number of family members** per household?  \n",
    "###  Find the **standard deviation** of `No_of_Fly_Members`. Is family size consistent across households?  \n",
    "###  Compare `No_of_Earning_Members` with `No_of_Fly_Members`. Which household has the **highest dependency ratio** (non-earning ÷ total members)?  \n",
    "\n",
    "\n",
    "\n",
    "## 3. Housing & EMI\n",
    "###  What is the **average EMI or rent amount** as a percentage of monthly income?  \n",
    "###  Identify households where `Emi_or_Rent_Amt` exceeds **40% of `Mthly_HH_Income`**.  \n",
    "### Which household has the **lowest disposable income** (`Mthly_HH_Income - Mthly_HH_Expense - Emi_or_Rent_Amt`)?  \n",
    "\n",
    "\n",
    "\n",
    "## 4. Annual Income & Qualification\n",
    "###  Verify whether `Annual_HH_Income` is consistent with `Mthly_HH_Income × 12`. If not, identify discrepancies.  \n",
    "### Group households by `Highest_Qualified_Member` (e.g., Graduate, Postgraduate, PhD). What is the **average monthly income** in each group?  \n",
    "### Does **higher qualification** correlate with **higher household income**? Support with mean/median values.  \n",
    "\n",
    "\n",
    "\n",
    "## 5. Outliers & Correlation\n",
    "### Detect **outliers** in `Mthly_HH_Income` using the **Z-score method**.  \n",
    "###  Compute the **correlation** between `Mthly_HH_Income` and `Mthly_HH_Expense`. Is the relationship strong?  \n",
    "###  Is there a significant correlation between `No_of_Earning_Members` and `Mthly_HH_Income`?  \n"
   ]
  },
  {
   "cell_type": "code",
   "execution_count": 25,
   "metadata": {},
   "outputs": [],
   "source": [
    "df=pd.read_csv(\"Inc_Exp_Data (1).csv\")"
   ]
  },
  {
   "cell_type": "code",
   "execution_count": 26,
   "metadata": {},
   "outputs": [
    {
     "data": {
      "text/html": [
       "<div>\n",
       "<style scoped>\n",
       "    .dataframe tbody tr th:only-of-type {\n",
       "        vertical-align: middle;\n",
       "    }\n",
       "\n",
       "    .dataframe tbody tr th {\n",
       "        vertical-align: top;\n",
       "    }\n",
       "\n",
       "    .dataframe thead th {\n",
       "        text-align: right;\n",
       "    }\n",
       "</style>\n",
       "<table border=\"1\" class=\"dataframe\">\n",
       "  <thead>\n",
       "    <tr style=\"text-align: right;\">\n",
       "      <th></th>\n",
       "      <th>Mthly_HH_Income</th>\n",
       "      <th>Mthly_HH_Expense</th>\n",
       "      <th>No_of_Fly_Members</th>\n",
       "      <th>Emi_or_Rent_Amt</th>\n",
       "      <th>Annual_HH_Income</th>\n",
       "      <th>No_of_Earning_Members</th>\n",
       "    </tr>\n",
       "  </thead>\n",
       "  <tbody>\n",
       "    <tr>\n",
       "      <th>count</th>\n",
       "      <td>50.000000</td>\n",
       "      <td>50.000000</td>\n",
       "      <td>50.000000</td>\n",
       "      <td>50.000000</td>\n",
       "      <td>5.000000e+01</td>\n",
       "      <td>50.000000</td>\n",
       "    </tr>\n",
       "    <tr>\n",
       "      <th>mean</th>\n",
       "      <td>41558.000000</td>\n",
       "      <td>18818.000000</td>\n",
       "      <td>4.060000</td>\n",
       "      <td>3060.000000</td>\n",
       "      <td>4.900190e+05</td>\n",
       "      <td>1.460000</td>\n",
       "    </tr>\n",
       "    <tr>\n",
       "      <th>std</th>\n",
       "      <td>26097.908979</td>\n",
       "      <td>12090.216824</td>\n",
       "      <td>1.517382</td>\n",
       "      <td>6241.434948</td>\n",
       "      <td>3.201358e+05</td>\n",
       "      <td>0.734291</td>\n",
       "    </tr>\n",
       "    <tr>\n",
       "      <th>min</th>\n",
       "      <td>5000.000000</td>\n",
       "      <td>2000.000000</td>\n",
       "      <td>1.000000</td>\n",
       "      <td>0.000000</td>\n",
       "      <td>6.420000e+04</td>\n",
       "      <td>1.000000</td>\n",
       "    </tr>\n",
       "    <tr>\n",
       "      <th>25%</th>\n",
       "      <td>23550.000000</td>\n",
       "      <td>10000.000000</td>\n",
       "      <td>3.000000</td>\n",
       "      <td>0.000000</td>\n",
       "      <td>2.587500e+05</td>\n",
       "      <td>1.000000</td>\n",
       "    </tr>\n",
       "    <tr>\n",
       "      <th>50%</th>\n",
       "      <td>35000.000000</td>\n",
       "      <td>15500.000000</td>\n",
       "      <td>4.000000</td>\n",
       "      <td>0.000000</td>\n",
       "      <td>4.474200e+05</td>\n",
       "      <td>1.000000</td>\n",
       "    </tr>\n",
       "    <tr>\n",
       "      <th>75%</th>\n",
       "      <td>50375.000000</td>\n",
       "      <td>25000.000000</td>\n",
       "      <td>5.000000</td>\n",
       "      <td>3500.000000</td>\n",
       "      <td>5.947200e+05</td>\n",
       "      <td>2.000000</td>\n",
       "    </tr>\n",
       "    <tr>\n",
       "      <th>max</th>\n",
       "      <td>100000.000000</td>\n",
       "      <td>50000.000000</td>\n",
       "      <td>7.000000</td>\n",
       "      <td>35000.000000</td>\n",
       "      <td>1.404000e+06</td>\n",
       "      <td>4.000000</td>\n",
       "    </tr>\n",
       "  </tbody>\n",
       "</table>\n",
       "</div>"
      ],
      "text/plain": [
       "       Mthly_HH_Income  Mthly_HH_Expense  No_of_Fly_Members  Emi_or_Rent_Amt  \\\n",
       "count        50.000000         50.000000          50.000000        50.000000   \n",
       "mean      41558.000000      18818.000000           4.060000      3060.000000   \n",
       "std       26097.908979      12090.216824           1.517382      6241.434948   \n",
       "min        5000.000000       2000.000000           1.000000         0.000000   \n",
       "25%       23550.000000      10000.000000           3.000000         0.000000   \n",
       "50%       35000.000000      15500.000000           4.000000         0.000000   \n",
       "75%       50375.000000      25000.000000           5.000000      3500.000000   \n",
       "max      100000.000000      50000.000000           7.000000     35000.000000   \n",
       "\n",
       "       Annual_HH_Income  No_of_Earning_Members  \n",
       "count      5.000000e+01              50.000000  \n",
       "mean       4.900190e+05               1.460000  \n",
       "std        3.201358e+05               0.734291  \n",
       "min        6.420000e+04               1.000000  \n",
       "25%        2.587500e+05               1.000000  \n",
       "50%        4.474200e+05               1.000000  \n",
       "75%        5.947200e+05               2.000000  \n",
       "max        1.404000e+06               4.000000  "
      ]
     },
     "execution_count": 26,
     "metadata": {},
     "output_type": "execute_result"
    }
   ],
   "source": [
    "df.describe()"
   ]
  },
  {
   "cell_type": "code",
   "execution_count": 27,
   "metadata": {},
   "outputs": [],
   "source": [
    "import pandas as pd\n",
    "import numpy as np\n",
    "from scipy import stats"
   ]
  },
  {
   "cell_type": "code",
   "execution_count": 28,
   "metadata": {},
   "outputs": [],
   "source": [
    "df=pd.read_csv(\"Inc_Exp_Data (1).csv\")"
   ]
  },
  {
   "cell_type": "code",
   "execution_count": 29,
   "metadata": {},
   "outputs": [
    {
     "name": "stdout",
     "output_type": "stream",
     "text": [
      "41558.0 35000.0 [45000] 18818.0 15500.0 95000 Mthly_HH_Income                70000\n",
      "Mthly_HH_Expense                9000\n",
      "No_of_Fly_Members                  2\n",
      "Emi_or_Rent_Amt                    0\n",
      "Annual_HH_Income              756000\n",
      "Highest_Qualified_Member    Graduate\n",
      "No_of_Earning_Members              1\n",
      "Income_Expense_Ratio        7.777778\n",
      "Name: 42, dtype: object\n"
     ]
    }
   ],
   "source": [
    "income_mean = df['Mthly_HH_Income'].mean()\n",
    "income_median = df['Mthly_HH_Income'].median()\n",
    "income_mode = df['Mthly_HH_Income'].mode().tolist()\n",
    "expense_mean = df['Mthly_HH_Expense'].mean()\n",
    "expense_median = df['Mthly_HH_Expense'].median()\n",
    "income_range = df['Mthly_HH_Income'].max() - df['Mthly_HH_Income'].min()\n",
    "df['Income_Expense_Ratio'] = df['Mthly_HH_Income'] / df['Mthly_HH_Expense']\n",
    "highest_ratio_row = df.loc[df['Income_Expense_Ratio'].idxmax()]\n",
    "print(income_mean, income_median, income_mode, expense_mean, expense_median, income_range, highest_ratio_row)"
   ]
  },
  {
   "cell_type": "code",
   "execution_count": 30,
   "metadata": {},
   "outputs": [
    {
     "data": {
      "text/plain": [
       "(np.float64(4.06),\n",
       " 1.5173822786601394,\n",
       " Mthly_HH_Income                  22000\n",
       " Mthly_HH_Expense                 25000\n",
       " No_of_Fly_Members                    6\n",
       " Emi_or_Rent_Amt                  12000\n",
       " Annual_HH_Income                279840\n",
       " Highest_Qualified_Member    Illiterate\n",
       " No_of_Earning_Members                1\n",
       " Income_Expense_Ratio              0.88\n",
       " Dependency_Ratio              0.833333\n",
       " Name: 11, dtype: object)"
      ]
     },
     "execution_count": 30,
     "metadata": {},
     "output_type": "execute_result"
    }
   ],
   "source": [
    "\n",
    "avg_family_size = df['No_of_Fly_Members'].mean()\n",
    "\n",
    "std_family_size = df['No_of_Fly_Members'].std()\n",
    "\n",
    "df['Dependency_Ratio'] = (df['No_of_Fly_Members'] - df['No_of_Earning_Members']) / df['No_of_Fly_Members']\n",
    "highest_dependency_row = df.loc[df['Dependency_Ratio'].idxmax()]\n",
    "\n",
    "avg_family_size, std_family_size, highest_dependency_row"
   ]
  },
  {
   "cell_type": "code",
   "execution_count": 31,
   "metadata": {},
   "outputs": [
    {
     "data": {
      "text/plain": [
       "(np.float64(12.694386798751193),\n",
       "     Mthly_HH_Income  Mthly_HH_Expense  No_of_Fly_Members  Emi_or_Rent_Amt  \\\n",
       " 1              6000              7000                  2             3000   \n",
       " 6             15000             16000                  3            35000   \n",
       " 7             18000             20000                  5             8000   \n",
       " 11            22000             25000                  6            12000   \n",
       " \n",
       "     Annual_HH_Income Highest_Qualified_Member  No_of_Earning_Members  \\\n",
       " 1              79920               Illiterate                      1   \n",
       " 6             167400            Post-Graduate                      1   \n",
       " 7             216000                 Graduate                      1   \n",
       " 11            279840               Illiterate                      1   \n",
       " \n",
       "     Income_Expense_Ratio  Dependency_Ratio  EMI_pct_income  \n",
       " 1               0.857143          0.500000       50.000000  \n",
       " 6               0.937500          0.666667      233.333333  \n",
       " 7               0.900000          0.800000       44.444444  \n",
       " 11              0.880000          0.833333       54.545455  ,\n",
       " Mthly_HH_Income                     15000\n",
       " Mthly_HH_Expense                    16000\n",
       " No_of_Fly_Members                       3\n",
       " Emi_or_Rent_Amt                     35000\n",
       " Annual_HH_Income                   167400\n",
       " Highest_Qualified_Member    Post-Graduate\n",
       " No_of_Earning_Members                   1\n",
       " Income_Expense_Ratio               0.9375\n",
       " Dependency_Ratio                 0.666667\n",
       " EMI_pct_income                 233.333333\n",
       " Disposable_Income                  -36000\n",
       " Name: 6, dtype: object)"
      ]
     },
     "execution_count": 31,
     "metadata": {},
     "output_type": "execute_result"
    }
   ],
   "source": [
    "\n",
    "df['EMI_pct_income'] = (df['Emi_or_Rent_Amt'] / df['Mthly_HH_Income']) * 100\n",
    "avg_emi_pct = df['EMI_pct_income'].mean()\n",
    "\n",
    "high_emi_households = df[df['EMI_pct_income'] > 40]\n",
    "\n",
    "df['Disposable_Income'] = df['Mthly_HH_Income'] - df['Mthly_HH_Expense'] - df['Emi_or_Rent_Amt']\n",
    "lowest_disposable_row = df.loc[df['Disposable_Income'].idxmin()]\n",
    "\n",
    "avg_emi_pct, high_emi_households, lowest_disposable_row"
   ]
  },
  {
   "cell_type": "code",
   "execution_count": 32,
   "metadata": {},
   "outputs": [
    {
     "data": {
      "text/plain": [
       "(    Mthly_HH_Income  Mthly_HH_Expense  No_of_Fly_Members  Emi_or_Rent_Amt  \\\n",
       " 0              5000              8000                  3             2000   \n",
       " 1              6000              7000                  2             3000   \n",
       " 2             10000              4500                  2                0   \n",
       " 3             10000              2000                  1                0   \n",
       " 4             12500             12000                  2             3000   \n",
       " 5             14000              8000                  2                0   \n",
       " 6             15000             16000                  3            35000   \n",
       " 8             19000              9000                  2                0   \n",
       " 9             20000              9000                  4                0   \n",
       " 10            20000             18000                  4             8000   \n",
       " 11            22000             25000                  6            12000   \n",
       " 12            23400              5000                  3                0   \n",
       " 13            24000             10500                  6                0   \n",
       " 14            24000             10000                  4                0   \n",
       " 15            25000             12300                  3                0   \n",
       " 16            25000             20000                  3             3500   \n",
       " 17            25000             10000                  6                0   \n",
       " 19            30000             13000                  4                0   \n",
       " 20            30500             25000                  5             5000   \n",
       " 21            32000             15000                  4                0   \n",
       " 22            34000             19000                  6                0   \n",
       " 23            34000             25000                  3             4000   \n",
       " 24            35000             12000                  3                0   \n",
       " 25            35000             25000                  4                0   \n",
       " 26            39000              8000                  4                0   \n",
       " 27            40000             10000                  4                0   \n",
       " 28            42000             15000                  4                0   \n",
       " 29            43000             12000                  4                0   \n",
       " 30            45000             25000                  6                0   \n",
       " 31            45000             40000                  6             3500   \n",
       " 32            45000             10000                  2             1000   \n",
       " 33            45000             22000                  4             2500   \n",
       " 34            46000             25000                  5             3500   \n",
       " 35            47000             15000                  7                0   \n",
       " 36            50000             20000                  4                0   \n",
       " 37            50500             20000                  3                0   \n",
       " 38            55000             45000                  6            12000   \n",
       " 39            60000             10000                  3                0   \n",
       " 40            60000             50000                  6            10000   \n",
       " 41            65000             20000                  4             5000   \n",
       " 42            70000              9000                  2                0   \n",
       " 43            80000             20000                  4                0   \n",
       " 44            85000             25000                  5                0   \n",
       " 45            90000             48000                  7                0   \n",
       " 46            98000             25000                  5                0   \n",
       " 47           100000             30000                  6                0   \n",
       " 48           100000             50000                  4            20000   \n",
       " 49           100000             40000                  6            10000   \n",
       " \n",
       "     Annual_HH_Income Highest_Qualified_Member  No_of_Earning_Members  \\\n",
       " 0              64200           Under-Graduate                      1   \n",
       " 1              79920               Illiterate                      1   \n",
       " 2             112800           Under-Graduate                      1   \n",
       " 3              97200               Illiterate                      1   \n",
       " 4             147000                 Graduate                      1   \n",
       " 5             196560                 Graduate                      1   \n",
       " 6             167400            Post-Graduate                      1   \n",
       " 8             218880           Under-Graduate                      1   \n",
       " 9             220800           Under-Graduate                      2   \n",
       " 10            278400           Under-Graduate                      2   \n",
       " 11            279840               Illiterate                      1   \n",
       " 12            292032               Illiterate                      1   \n",
       " 13            316800                 Graduate                      2   \n",
       " 14            244800                 Graduate                      2   \n",
       " 15            246000                 Graduate                      1   \n",
       " 16            261000                 Graduate                      1   \n",
       " 17            258000           Under-Graduate                      3   \n",
       " 19            385200                 Graduate                      1   \n",
       " 20            351360           Under-Graduate                      1   \n",
       " 21            445440             Professional                      1   \n",
       " 22            330480             Professional                      1   \n",
       " 23            469200             Professional                      1   \n",
       " 24            466200                 Graduate                      1   \n",
       " 25            449400             Professional                      2   \n",
       " 26            556920           Under-Graduate                      1   \n",
       " 27            412800           Under-Graduate                      1   \n",
       " 28            488880                 Graduate                      1   \n",
       " 29            619200                 Graduate                      1   \n",
       " 30            523800                 Graduate                      3   \n",
       " 31            507600             Professional                      2   \n",
       " 32            437400            Post-Graduate                      1   \n",
       " 33            610200            Post-Graduate                      1   \n",
       " 34            596160                 Graduate                      1   \n",
       " 35            456840             Professional                      4   \n",
       " 36            570000             Professional                      1   \n",
       " 37            581760             Professional                      2   \n",
       " 38            600600                 Graduate                      2   \n",
       " 39            590400            Post-Graduate                      1   \n",
       " 40            590400                 Graduate                      1   \n",
       " 41            647400               Illiterate                      2   \n",
       " 42            756000                 Graduate                      1   \n",
       " 43           1075200                 Graduate                      1   \n",
       " 44           1142400           Under-Graduate                      2   \n",
       " 45            885600            Post-Graduate                      3   \n",
       " 46           1152480             Professional                      2   \n",
       " 47           1404000                 Graduate                      3   \n",
       " 48           1032000             Professional                      2   \n",
       " 49           1320000            Post-Graduate                      1   \n",
       " \n",
       "     Income_Expense_Ratio  Dependency_Ratio  EMI_pct_income  Disposable_Income  \\\n",
       " 0               0.625000          0.666667       40.000000              -5000   \n",
       " 1               0.857143          0.500000       50.000000              -4000   \n",
       " 2               2.222222          0.500000        0.000000               5500   \n",
       " 3               5.000000          0.000000        0.000000               8000   \n",
       " 4               1.041667          0.500000       24.000000              -2500   \n",
       " 5               1.750000          0.500000        0.000000               6000   \n",
       " 6               0.937500          0.666667      233.333333             -36000   \n",
       " 8               2.111111          0.500000        0.000000              10000   \n",
       " 9               2.222222          0.500000        0.000000              11000   \n",
       " 10              1.111111          0.500000       40.000000              -6000   \n",
       " 11              0.880000          0.833333       54.545455             -15000   \n",
       " 12              4.680000          0.666667        0.000000              18400   \n",
       " 13              2.285714          0.666667        0.000000              13500   \n",
       " 14              2.400000          0.500000        0.000000              14000   \n",
       " 15              2.032520          0.666667        0.000000              12700   \n",
       " 16              1.250000          0.666667       14.000000               1500   \n",
       " 17              2.500000          0.500000        0.000000              15000   \n",
       " 19              2.307692          0.750000        0.000000              17000   \n",
       " 20              1.220000          0.800000       16.393443                500   \n",
       " 21              2.133333          0.750000        0.000000              17000   \n",
       " 22              1.789474          0.833333        0.000000              15000   \n",
       " 23              1.360000          0.666667       11.764706               5000   \n",
       " 24              2.916667          0.666667        0.000000              23000   \n",
       " 25              1.400000          0.500000        0.000000              10000   \n",
       " 26              4.875000          0.750000        0.000000              31000   \n",
       " 27              4.000000          0.750000        0.000000              30000   \n",
       " 28              2.800000          0.750000        0.000000              27000   \n",
       " 29              3.583333          0.750000        0.000000              31000   \n",
       " 30              1.800000          0.500000        0.000000              20000   \n",
       " 31              1.125000          0.666667        7.777778               1500   \n",
       " 32              4.500000          0.500000        2.222222              34000   \n",
       " 33              2.045455          0.750000        5.555556              20500   \n",
       " 34              1.840000          0.800000        7.608696              17500   \n",
       " 35              3.133333          0.428571        0.000000              32000   \n",
       " 36              2.500000          0.750000        0.000000              30000   \n",
       " 37              2.525000          0.333333        0.000000              30500   \n",
       " 38              1.222222          0.666667       21.818182              -2000   \n",
       " 39              6.000000          0.666667        0.000000              50000   \n",
       " 40              1.200000          0.833333       16.666667                  0   \n",
       " 41              3.250000          0.500000        7.692308              40000   \n",
       " 42              7.777778          0.500000        0.000000              61000   \n",
       " 43              4.000000          0.750000        0.000000              60000   \n",
       " 44              3.400000          0.600000        0.000000              60000   \n",
       " 45              1.875000          0.571429        0.000000              42000   \n",
       " 46              3.920000          0.600000        0.000000              73000   \n",
       " 47              3.333333          0.500000        0.000000              70000   \n",
       " 48              2.000000          0.500000       20.000000              30000   \n",
       " 49              2.500000          0.833333       10.000000              50000   \n",
       " \n",
       "     Annual_Check  Annual_Consistent  \n",
       " 0          60000              False  \n",
       " 1          72000              False  \n",
       " 2         120000              False  \n",
       " 3         120000              False  \n",
       " 4         150000              False  \n",
       " 5         168000              False  \n",
       " 6         180000              False  \n",
       " 8         228000              False  \n",
       " 9         240000              False  \n",
       " 10        240000              False  \n",
       " 11        264000              False  \n",
       " 12        280800              False  \n",
       " 13        288000              False  \n",
       " 14        288000              False  \n",
       " 15        300000              False  \n",
       " 16        300000              False  \n",
       " 17        300000              False  \n",
       " 19        360000              False  \n",
       " 20        366000              False  \n",
       " 21        384000              False  \n",
       " 22        408000              False  \n",
       " 23        408000              False  \n",
       " 24        420000              False  \n",
       " 25        420000              False  \n",
       " 26        468000              False  \n",
       " 27        480000              False  \n",
       " 28        504000              False  \n",
       " 29        516000              False  \n",
       " 30        540000              False  \n",
       " 31        540000              False  \n",
       " 32        540000              False  \n",
       " 33        540000              False  \n",
       " 34        552000              False  \n",
       " 35        564000              False  \n",
       " 36        600000              False  \n",
       " 37        606000              False  \n",
       " 38        660000              False  \n",
       " 39        720000              False  \n",
       " 40        720000              False  \n",
       " 41        780000              False  \n",
       " 42        840000              False  \n",
       " 43        960000              False  \n",
       " 44       1020000              False  \n",
       " 45       1080000              False  \n",
       " 46       1176000              False  \n",
       " 47       1200000              False  \n",
       " 48       1200000              False  \n",
       " 49       1200000              False  ,\n",
       "                                   mean   median  count\n",
       " Highest_Qualified_Member                              \n",
       " Graduate                  40921.052632  35000.0     19\n",
       " Illiterate                25280.000000  22000.0      5\n",
       " Post-Graduate             59166.666667  52500.0      6\n",
       " Professional              52550.000000  46000.0     10\n",
       " Under-Graduate            29350.000000  22500.0     10)"
      ]
     },
     "execution_count": 32,
     "metadata": {},
     "output_type": "execute_result"
    }
   ],
   "source": [
    "\n",
    "df['Annual_Check'] = df['Mthly_HH_Income'] * 12\n",
    "df['Annual_Consistent'] = df['Annual_HH_Income'] == df['Annual_Check']\n",
    "inconsistent_rows = df[df['Annual_Consistent'] == False]\n",
    "\n",
    "qual_income_group = df.groupby('Highest_Qualified_Member')['Mthly_HH_Income'].agg(['mean','median','count'])\n",
    "\n",
    "inconsistent_rows, qual_income_group"
   ]
  },
  {
   "cell_type": "code",
   "execution_count": 33,
   "metadata": {},
   "outputs": [
    {
     "data": {
      "text/plain": [
       "(Empty DataFrame\n",
       " Columns: [Mthly_HH_Income, Mthly_HH_Expense, No_of_Fly_Members, Emi_or_Rent_Amt, Annual_HH_Income, Highest_Qualified_Member, No_of_Earning_Members, Income_Expense_Ratio, Dependency_Ratio, EMI_pct_income, Disposable_Income, Annual_Check, Annual_Consistent, Z_Score_Income]\n",
       " Index: [],\n",
       " np.float64(0.6492152549316462),\n",
       " np.float64(0.34788345602238413))"
      ]
     },
     "execution_count": 33,
     "metadata": {},
     "output_type": "execute_result"
    }
   ],
   "source": [
    "\n",
    "z_scores = stats.zscore(df['Mthly_HH_Income'])\n",
    "df['Z_Score_Income'] = z_scores\n",
    "outliers = df[np.abs(df['Z_Score_Income']) > 3]\n",
    "\n",
    "corr_income_expense = df['Mthly_HH_Income'].corr(df['Mthly_HH_Expense'])\n",
    "\n",
    "corr_earning_income = df['No_of_Earning_Members'].corr(df['Mthly_HH_Income'])\n",
    "\n",
    "outliers, corr_income_expense, corr_earning_income"
   ]
  },
  {
   "cell_type": "code",
   "execution_count": null,
   "metadata": {},
   "outputs": [],
   "source": []
  }
 ],
 "metadata": {
  "kernelspec": {
   "display_name": "Python [conda env:base] *",
   "language": "python",
   "name": "conda-base-py"
  },
  "language_info": {
   "codemirror_mode": {
    "name": "ipython",
    "version": 3
   },
   "file_extension": ".py",
   "mimetype": "text/x-python",
   "name": "python",
   "nbconvert_exporter": "python",
   "pygments_lexer": "ipython3",
   "version": "3.13.5"
  }
 },
 "nbformat": 4,
 "nbformat_minor": 4
}
