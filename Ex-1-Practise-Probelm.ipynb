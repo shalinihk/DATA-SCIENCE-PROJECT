{
 "cells": [
  {
   "cell_type": "code",
   "execution_count": 3,
   "metadata": {
    "id": "iZTaT_aIDoRP"
   },
   "outputs": [],
   "source": [
    "## 🧪 Lab Task: Data Collection from RemoteOK\n",
    "\n",
    "#As a data scientist, the first step in any project is to collect relevant and structured data. In this exercise, your task is to extract job-related information from the RemoteOK job website: [https://remoteok.com/r](https://remoteok.com/r).\n",
    "\n",
    "### 🎯 Objectives:\n",
    "#- Collect the following data fields for each job posting:\n",
    " # - **Company Name**\n",
    "  #- **Job Role**\n",
    "  #- **Location**\n",
    "  #- **Features or Tags** (e.g., technologies, benefits, job type)\n",
    "\n",
    "### 🛠 Instructions:\n",
    "#- Use Python along with libraries such as `requests`, `pandas`, and optionally `json` or `BeautifulSoup` if needed.\n",
    "#- Retrieve the job data from the RemoteOK API or web page.\n",
    "#- Parse the JSON or HTML response to extract the required fields.\n",
    "#- Store the collected data in a structured format such as **CSV** for future analysis.\n",
    "\n",
    "### 📦 Output:\n",
    "#A CSV file (e.g., `remoteok_jobs.csv`) containing all extracted job listings with the specified fields.\n",
    "\n",
    "#> ✅ This dataset will serve as the foundation for further data analysis and machine learning tasks in upcoming lab exercises.\n"
   ]
  },
  {
   "cell_type": "code",
   "execution_count": 4,
   "metadata": {},
   "outputs": [
    {
     "name": "stdout",
     "output_type": "stream",
     "text": [
      "✅ remoteok_jobs.csv created successfully!\n"
     ]
    },
    {
     "data": {
      "text/html": [
       "<div>\n",
       "<style scoped>\n",
       "    .dataframe tbody tr th:only-of-type {\n",
       "        vertical-align: middle;\n",
       "    }\n",
       "\n",
       "    .dataframe tbody tr th {\n",
       "        vertical-align: top;\n",
       "    }\n",
       "\n",
       "    .dataframe thead th {\n",
       "        text-align: right;\n",
       "    }\n",
       "</style>\n",
       "<table border=\"1\" class=\"dataframe\">\n",
       "  <thead>\n",
       "    <tr style=\"text-align: right;\">\n",
       "      <th></th>\n",
       "      <th>Company Name</th>\n",
       "      <th>Job Role</th>\n",
       "      <th>Location</th>\n",
       "      <th>Tags</th>\n",
       "    </tr>\n",
       "  </thead>\n",
       "  <tbody>\n",
       "    <tr>\n",
       "      <th>0</th>\n",
       "      <td>BrightEdge</td>\n",
       "      <td>Big Data Engineer Professional Services</td>\n",
       "      <td>Hyderabad</td>\n",
       "      <td>python, technical, web, seo, content, marketin...</td>\n",
       "    </tr>\n",
       "    <tr>\n",
       "      <th>1</th>\n",
       "      <td>PEXA Group</td>\n",
       "      <td>Principal Data Engineer</td>\n",
       "      <td></td>\n",
       "      <td>design, security, technical, testing, controll...</td>\n",
       "    </tr>\n",
       "    <tr>\n",
       "      <th>2</th>\n",
       "      <td>3Pillar</td>\n",
       "      <td>Senior Business Analyst</td>\n",
       "      <td>India</td>\n",
       "      <td>analyst, system, training, technical, support,...</td>\n",
       "    </tr>\n",
       "    <tr>\n",
       "      <th>3</th>\n",
       "      <td>Crypto.com</td>\n",
       "      <td>Compliance Analyst Law Enforcement Requests Bu...</td>\n",
       "      <td>Sofia, Bulgaria</td>\n",
       "      <td>analyst, cryptocurrency, support, manager, fin...</td>\n",
       "    </tr>\n",
       "    <tr>\n",
       "      <th>4</th>\n",
       "      <td>Decentralized Masters</td>\n",
       "      <td>DeFi Analyst and Educator</td>\n",
       "      <td></td>\n",
       "      <td>education, teaching, crypto, customer support</td>\n",
       "    </tr>\n",
       "  </tbody>\n",
       "</table>\n",
       "</div>"
      ],
      "text/plain": [
       "            Company Name                                           Job Role  \\\n",
       "0             BrightEdge            Big Data Engineer Professional Services   \n",
       "1             PEXA Group                            Principal Data Engineer   \n",
       "2                3Pillar                            Senior Business Analyst   \n",
       "3             Crypto.com  Compliance Analyst Law Enforcement Requests Bu...   \n",
       "4  Decentralized Masters                          DeFi Analyst and Educator   \n",
       "\n",
       "          Location                                               Tags  \n",
       "0        Hyderabad  python, technical, web, seo, content, marketin...  \n",
       "1                   design, security, technical, testing, controll...  \n",
       "2            India  analyst, system, training, technical, support,...  \n",
       "3  Sofia, Bulgaria  analyst, cryptocurrency, support, manager, fin...  \n",
       "4                       education, teaching, crypto, customer support  "
      ]
     },
     "execution_count": 4,
     "metadata": {},
     "output_type": "execute_result"
    }
   ],
   "source": [
    "import requests\n",
    "import pandas as pd\n",
    "\n",
    "# RemoteOK API endpoint\n",
    "url = \"https://remoteok.com/api\"\n",
    "\n",
    "try:\n",
    "    response = requests.get(url, headers={'User-Agent': 'Mozilla/5.0'})\n",
    "    response.raise_for_status()\n",
    "    jobs_data = response.json()\n",
    "except Exception as e:\n",
    "    print(\"Error fetching data:\", e)\n",
    "    jobs_data = []\n",
    "\n",
    "# Skip metadata (first element)\n",
    "jobs = jobs_data[1:] if len(jobs_data) > 1 else []\n",
    "\n",
    "# Extract required fields\n",
    "job_list = []\n",
    "for job in jobs:\n",
    "    job_list.append({\n",
    "        \"Company Name\": job.get(\"company\"),\n",
    "        \"Job Role\": job.get(\"position\") or job.get(\"title\"),\n",
    "        \"Location\": job.get(\"location\"),\n",
    "        \"Tags\": \", \".join(job.get(\"tags\", []))\n",
    "    })\n",
    "\n",
    "# Convert to DataFrame\n",
    "df_jobs = pd.DataFrame(job_list)\n",
    "\n",
    "# Save as CSV\n",
    "df_jobs.to_csv(\"remoteok_jobs.csv\", index=False)\n",
    "print(\"✅ remoteok_jobs.csv created successfully!\")\n",
    "\n",
    "# Show first 5 rows\n",
    "df_jobs.head()\n"
   ]
  },
  {
   "cell_type": "code",
   "execution_count": null,
   "metadata": {},
   "outputs": [],
   "source": []
  }
 ],
 "metadata": {
  "colab": {
   "provenance": []
  },
  "kernelspec": {
   "display_name": "Python [conda env:base] *",
   "language": "python",
   "name": "conda-base-py"
  },
  "language_info": {
   "codemirror_mode": {
    "name": "ipython",
    "version": 3
   },
   "file_extension": ".py",
   "mimetype": "text/x-python",
   "name": "python",
   "nbconvert_exporter": "python",
   "pygments_lexer": "ipython3",
   "version": "3.13.5"
  }
 },
 "nbformat": 4,
 "nbformat_minor": 4
}
